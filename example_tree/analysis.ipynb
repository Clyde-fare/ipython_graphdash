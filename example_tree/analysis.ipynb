{
 "metadata": {
  "name": "",
  "signature": "sha256:cfbda6632c1eacb8d02e7628bb3e0f6ca80bfe40ad8036e9564c711e36733ae1"
 },
 "nbformat": 3,
 "nbformat_minor": 0,
 "worksheets": [
  {
   "cells": [
    {
     "cell_type": "markdown",
     "metadata": {},
     "source": [
      "analysis_1 from [final calcs](calculations_3.ipynb)"
     ]
    },
    {
     "cell_type": "code",
     "collapsed": false,
     "input": [],
     "language": "python",
     "metadata": {},
     "outputs": []
    }
   ],
   "metadata": {}
  }
 ]
}