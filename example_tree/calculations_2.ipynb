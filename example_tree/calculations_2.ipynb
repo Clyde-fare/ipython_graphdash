{
 "metadata": {
  "name": "",
  "signature": "sha256:f2694224c159166c5e5fa0b10e8d417b36e826215ebfbb3aa8b06266880d363c"
 },
 "nbformat": 3,
 "nbformat_minor": 0,
 "worksheets": [
  {
   "cells": [
    {
     "cell_type": "markdown",
     "metadata": {},
     "source": [
      "further calculations and another [link](calculations_3.ipynb)"
     ]
    },
    {
     "cell_type": "code",
     "collapsed": false,
     "input": [],
     "language": "python",
     "metadata": {},
     "outputs": []
    }
   ],
   "metadata": {}
  }
 ]
}