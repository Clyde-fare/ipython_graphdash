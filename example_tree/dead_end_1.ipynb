{
 "metadata": {
  "name": "",
  "signature": "sha256:378f524fbf7aa7f4fec18dd3a4be0aab2b008706b62f2bfc5a1d8770f6236082"
 },
 "nbformat": 3,
 "nbformat_minor": 0,
 "worksheets": [
  {
   "cells": [
    {
     "cell_type": "markdown",
     "metadata": {},
     "source": [
      "an initial dead end from [calcs1](calculations.ipynb)"
     ]
    },
    {
     "cell_type": "code",
     "collapsed": false,
     "input": [],
     "language": "python",
     "metadata": {},
     "outputs": []
    }
   ],
   "metadata": {}
  }
 ]
}