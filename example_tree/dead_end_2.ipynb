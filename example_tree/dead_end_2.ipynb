{
 "metadata": {
  "name": "",
  "signature": "sha256:4332d486ce1b3263cc40e3c40ca0e5e431eda7132196929cf75cff271445d90d"
 },
 "nbformat": 3,
 "nbformat_minor": 0,
 "worksheets": [
  {
   "cells": [
    {
     "cell_type": "markdown",
     "metadata": {},
     "source": [
      "another dead end from [calc1](calculations.ipynb)"
     ]
    },
    {
     "cell_type": "code",
     "collapsed": false,
     "input": [],
     "language": "python",
     "metadata": {},
     "outputs": []
    }
   ],
   "metadata": {}
  }
 ]
}