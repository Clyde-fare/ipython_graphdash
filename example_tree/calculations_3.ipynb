{
 "metadata": {
  "name": "",
  "signature": "sha256:923ae690a809cab6e97f9b3fafa311765a0af4aa7d9356faeed9df87a64f9570"
 },
 "nbformat": 3,
 "nbformat_minor": 0,
 "worksheets": [
  {
   "cells": [
    {
     "cell_type": "markdown",
     "metadata": {},
     "source": [
      "analysis done from [earlier_calcs](calculations_3.ipynb)"
     ]
    },
    {
     "cell_type": "code",
     "collapsed": false,
     "input": [],
     "language": "python",
     "metadata": {},
     "outputs": []
    }
   ],
   "metadata": {}
  }
 ]
}