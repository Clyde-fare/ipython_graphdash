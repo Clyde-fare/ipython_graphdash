{
 "metadata": {
  "name": "",
  "signature": "sha256:d0c504087eda828472616ba0e07cc5fa2f581718d35bf416cfd31e70f213fa06"
 },
 "nbformat": 3,
 "nbformat_minor": 0,
 "worksheets": [
  {
   "cells": [
    {
     "cell_type": "markdown",
     "metadata": {},
     "source": [
      "from [c3](calculations_3.ipynb)"
     ]
    },
    {
     "cell_type": "code",
     "collapsed": false,
     "input": [],
     "language": "python",
     "metadata": {},
     "outputs": []
    }
   ],
   "metadata": {}
  }
 ]
}