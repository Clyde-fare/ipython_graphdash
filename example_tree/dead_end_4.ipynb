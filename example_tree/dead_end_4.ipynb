{
 "metadata": {
  "name": "",
  "signature": "sha256:9f19b8dcc688eb6ef9e872664b1a8e957e7038fe3ac54087e2b9d19013465155"
 },
 "nbformat": 3,
 "nbformat_minor": 0,
 "worksheets": [
  {
   "cells": [
    {
     "cell_type": "markdown",
     "metadata": {},
     "source": [
      "from [c1](calculations.ipynb)"
     ]
    },
    {
     "cell_type": "code",
     "collapsed": false,
     "input": [],
     "language": "python",
     "metadata": {},
     "outputs": []
    }
   ],
   "metadata": {}
  }
 ]
}