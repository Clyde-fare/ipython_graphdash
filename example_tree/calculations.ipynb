{
 "metadata": {
  "name": "",
  "signature": "sha256:e3757b85e0ebdf95f5c6f3185d50189acf2c0a12195781b472f20e31d14f4b08"
 },
 "nbformat": 3,
 "nbformat_minor": 0,
 "worksheets": [
  {
   "cells": [
    {
     "cell_type": "markdown",
     "metadata": {},
     "source": [
      "Some calcs and a link to another [notebook](calculations_2.ipynb)"
     ]
    },
    {
     "cell_type": "code",
     "collapsed": false,
     "input": [],
     "language": "python",
     "metadata": {},
     "outputs": []
    }
   ],
   "metadata": {}
  }
 ]
}