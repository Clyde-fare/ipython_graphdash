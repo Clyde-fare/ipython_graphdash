{
 "metadata": {
  "name": "",
  "signature": "sha256:7610d26f38f6106ef63cb19c07a4186e7e4268b539e8f19cbea5ce4def4fb306"
 },
 "nbformat": 3,
 "nbformat_minor": 0,
 "worksheets": [
  {
   "cells": [
    {
     "cell_type": "markdown",
     "metadata": {},
     "source": [
      "from [c2](calculations_2.ipynb)"
     ]
    },
    {
     "cell_type": "code",
     "collapsed": false,
     "input": [],
     "language": "python",
     "metadata": {},
     "outputs": []
    }
   ],
   "metadata": {}
  }
 ]
}