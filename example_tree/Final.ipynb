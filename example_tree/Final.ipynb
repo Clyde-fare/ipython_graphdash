{
 "metadata": {
  "name": "",
  "signature": "sha256:c071f31372084f39635dbe4b9af3da2c270770c061b8a1546e32f0465474ecae"
 },
 "nbformat": 3,
 "nbformat_minor": 0,
 "worksheets": [
  {
   "cells": [
    {
     "cell_type": "markdown",
     "metadata": {},
     "source": [
      "last notebook building on [analysis](analysis.ipynb)"
     ]
    }
   ],
   "metadata": {}
  }
 ]
}