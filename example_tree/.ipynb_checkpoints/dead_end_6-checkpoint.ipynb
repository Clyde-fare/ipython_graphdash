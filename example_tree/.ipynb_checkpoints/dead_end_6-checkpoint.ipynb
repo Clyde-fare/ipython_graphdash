{
 "metadata": {
  "name": ""
 },
 "nbformat": 3,
 "nbformat_minor": 0,
 "worksheets": [
  {
   "cells": [
    {
     "cell_type": "markdown",
     "metadata": {},
     "source": [
      "a dead end attempting to go beyond [the expanded set of calculations](localhost:8888/calculations_3.ipynb)"
     ]
    },
    {
     "cell_type": "code",
     "collapsed": false,
     "input": [],
     "language": "python",
     "metadata": {},
     "outputs": []
    }
   ],
   "metadata": {}
  }
 ]
}