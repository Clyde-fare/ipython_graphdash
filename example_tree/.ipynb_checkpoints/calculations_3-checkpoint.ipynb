{
 "metadata": {
  "name": ""
 },
 "nbformat": 3,
 "nbformat_minor": 0,
 "worksheets": [
  {
   "cells": [
    {
     "cell_type": "markdown",
     "metadata": {},
     "source": [
      "further expansion of [earlier calculations](localhost://8888:calculations_2.ipynb)"
     ]
    }
   ],
   "metadata": {}
  }
 ]
}