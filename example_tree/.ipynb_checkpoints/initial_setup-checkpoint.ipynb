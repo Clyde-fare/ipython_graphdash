{
 "metadata": {
  "name": ""
 },
 "nbformat": 3,
 "nbformat_minor": 0,
 "worksheets": [
  {
   "cells": [
    {
     "cell_type": "markdown",
     "metadata": {},
     "source": [
      "Some initial calculcations are here"
     ]
    }
   ],
   "metadata": {}
  }
 ]
}