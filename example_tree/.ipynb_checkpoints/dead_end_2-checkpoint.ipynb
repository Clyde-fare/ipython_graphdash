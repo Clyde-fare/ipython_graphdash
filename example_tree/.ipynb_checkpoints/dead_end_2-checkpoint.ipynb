{
 "metadata": {
  "name": ""
 },
 "nbformat": 3,
 "nbformat_minor": 0,
 "worksheets": [
  {
   "cells": [
    {
     "cell_type": "markdown",
     "metadata": {},
     "source": [
      "another dead end attempting to go beyond [the initial setup](localhost:8888/initial_setup.ipynb)"
     ]
    }
   ],
   "metadata": {}
  }
 ]
}